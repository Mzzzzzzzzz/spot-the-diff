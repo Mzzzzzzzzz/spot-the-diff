{
 "cells": [
  {
   "cell_type": "code",
   "execution_count": 1,
   "metadata": {},
   "outputs": [],
   "source": [
    "from PIL import Image, ImageFilter, ImageDraw\n",
    "import numpy as np\n",
    "import math\n",
    "import sys\n",
    "import pickle\n",
    "import numpy as np\n",
    "import json "
   ]
  },
  {
   "cell_type": "code",
   "execution_count": 2,
   "metadata": {},
   "outputs": [],
   "source": [
    "# load annotations"
   ]
  },
  {
   "cell_type": "code",
   "execution_count": 3,
   "metadata": {},
   "outputs": [],
   "source": [
    "train_data = json.load( open(\"../data/annotations/train.json\",\"r\") )\n",
    "val_data = json.load( open(\"../data/annotations/val.json\",\"r\") )\n",
    "test_data = json.load( open(\"../data/annotations/test.json\",\"r\") )"
   ]
  },
  {
   "cell_type": "code",
   "execution_count": 4,
   "metadata": {},
   "outputs": [
    {
     "name": "stdout",
     "output_type": "stream",
     "text": [
      "9524\n",
      "1634\n",
      "1404\n"
     ]
    }
   ],
   "source": [
    "print len(train_data)\n",
    "print len(val_data)\n",
    "print len(test_data)"
   ]
  },
  {
   "cell_type": "code",
   "execution_count": 5,
   "metadata": {},
   "outputs": [
    {
     "name": "stdout",
     "output_type": "stream",
     "text": [
      "img_id  :  42\n",
      "sentences  :  [u'the left most man walking away from the building is missing', u'a car has appeared near the building', u'the group of gentlemen on the right side of the picture have shifted red shirt guy is standing up straighter blue shirt guy is shading his eyes from the sun the right most guy is standing up straighter', u'there is a new couple of people who entered from the top of the picture']\n"
     ]
    }
   ],
   "source": [
    "#print train_data[110]\n",
    "for k,v in train_data[110].items():\n",
    "    print k,\" : \", v"
   ]
  },
  {
   "cell_type": "code",
   "execution_count": null,
   "metadata": {},
   "outputs": [],
   "source": []
  },
  {
   "cell_type": "code",
   "execution_count": 6,
   "metadata": {},
   "outputs": [],
   "source": [
    "# show sample images and corresponding diff images\n",
    "img_id = '42' # answer to life, universe, everything"
   ]
  },
  {
   "cell_type": "code",
   "execution_count": 7,
   "metadata": {},
   "outputs": [],
   "source": [
    "im = Image.open('../data/resized_images/'+img_id+'.png')\n",
    "im.show()\n",
    "im = Image.open('../data/resized_images/'+img_id+'_2.png')\n",
    "im.show()\n",
    "im = Image.open('../data/resized_images/'+img_id+'_diff.jpg')\n",
    "im.show()"
   ]
  },
  {
   "cell_type": "code",
   "execution_count": null,
   "metadata": {},
   "outputs": [],
   "source": []
  },
  {
   "cell_type": "code",
   "execution_count": 8,
   "metadata": {},
   "outputs": [],
   "source": [
    "# show cluster output sample "
   ]
  },
  {
   "cell_type": "code",
   "execution_count": 9,
   "metadata": {},
   "outputs": [],
   "source": [
    "vals = pickle.load( open(\"../data/params_eps_20min_samples_9__allrectangles_corrected.obj\",\"r\") )\n",
    "\n",
    "def drawRectanglesOnImage(image_path, rectangles_coordinates, save_path, show_image, classes=None):\n",
    "    im = Image.open(image_path)\n",
    "    fill_color = 128\n",
    "    image_y_limit = im.size[1]\n",
    "    draw = ImageDraw.Draw(im)\n",
    "    for i,rectangle  in enumerate(rectangles_coordinates):\n",
    "        x1,x2,y1,y2 = rectangle\n",
    "        x1,x2,y1,y2 = y1, y2 , x1, x2   #  due to format requirements\n",
    "        if classes is not None:\n",
    "            fill_color = fill_color_maps[classes[i]]\n",
    "        draw.line((x1,y1) + (x1,y2), fill=fill_color)\n",
    "        draw.line((x2,y1) + (x2,y2), fill=fill_color)\n",
    "        draw.line((x1,y1) + (x2,y1), fill=fill_color)\n",
    "        draw.line((x1,y2) + (x2,y2), fill=fill_color)\n",
    "    del draw\n",
    "    if save_path!=None:\n",
    "        print \"Saving to \", save_path\n",
    "        im.save(save_path, \"JPEG\", quality=100, optimize=False, progressive=True)\n",
    "    if show_image:\n",
    "        im.show()"
   ]
  },
  {
   "cell_type": "code",
   "execution_count": 10,
   "metadata": {},
   "outputs": [],
   "source": [
    "#print vals[img_id]\n",
    "drawRectanglesOnImage('../data/resized_images/'+img_id+'.png', vals[img_id], None, True)\n",
    "drawRectanglesOnImage('../data/resized_images/'+img_id+'_2.png', vals[img_id], None, True)"
   ]
  },
  {
   "cell_type": "code",
   "execution_count": null,
   "metadata": {},
   "outputs": [],
   "source": []
  },
  {
   "cell_type": "code",
   "execution_count": null,
   "metadata": {},
   "outputs": [],
   "source": []
  },
  {
   "cell_type": "code",
   "execution_count": null,
   "metadata": {},
   "outputs": [],
   "source": []
  }
 ],
 "metadata": {
  "kernelspec": {
   "display_name": "Python 2",
   "language": "python",
   "name": "python2"
  },
  "language_info": {
   "codemirror_mode": {
    "name": "ipython",
    "version": 2
   },
   "file_extension": ".py",
   "mimetype": "text/x-python",
   "name": "python",
   "nbconvert_exporter": "python",
   "pygments_lexer": "ipython2",
   "version": "2.7.14"
  }
 },
 "nbformat": 4,
 "nbformat_minor": 2
}
