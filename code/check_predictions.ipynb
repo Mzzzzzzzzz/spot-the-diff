{
 "cells": [
  {
   "cell_type": "code",
   "execution_count": 1,
   "metadata": {},
   "outputs": [],
   "source": [
    "from PIL import Image, ImageFilter, ImageDraw\n",
    "import numpy as np\n",
    "import math\n",
    "import sys\n",
    "import pickle\n",
    "import numpy as np\n",
    "import json \n",
    "import os"
   ]
  },
  {
   "cell_type": "code",
   "execution_count": 2,
   "metadata": {},
   "outputs": [],
   "source": [
    "train_data = json.load( open(\"../data/annotations/train.json\",\"r\") )\n",
    "val_data = json.load( open(\"../data/annotations/val.json\",\"r\") )\n",
    "test_data = json.load( open(\"../data/annotations/test.json\",\"r\") )"
   ]
  },
  {
   "cell_type": "code",
   "execution_count": 3,
   "metadata": {},
   "outputs": [
    {
     "name": "stdout",
     "output_type": "stream",
     "text": [
      "9524\n",
      "1634\n",
      "1404\n"
     ]
    }
   ],
   "source": [
    "print(len(train_data))\n",
    "print(len(val_data))\n",
    "print(len(test_data))"
   ]
  },
  {
   "cell_type": "code",
   "execution_count": null,
   "metadata": {},
   "outputs": [],
   "source": []
  },
  {
   "cell_type": "code",
   "execution_count": 4,
   "metadata": {},
   "outputs": [],
   "source": [
    "from pycocotools.coco import COCO\n",
    "from pycocoevalcap.eval import COCOEvalCap\n",
    "#git clone --depth=1 git@github.com:mtanti/coco-caption.git"
   ]
  },
  {
   "cell_type": "code",
   "execution_count": 5,
   "metadata": {},
   "outputs": [],
   "source": [
    "#single\n",
    "cache_fname_prefix = 'predictions/ddla_rerun'\n",
    "pred_file = os.path.join(cache_fname_prefix + '_predfile.json')\n",
    "gt_file = os.path.join(cache_fname_prefix + '_gtfile.json')"
   ]
  },
  {
   "cell_type": "code",
   "execution_count": 8,
   "metadata": {},
   "outputs": [
    {
     "name": "stdout",
     "output_type": "stream",
     "text": [
      "loading annotations into memory...\n",
      "0:00:00.006748\n",
      "creating index...\n",
      "index created!\n",
      "Loading and preparing results...     \n",
      "DONE (t=0.00s)\n",
      "creating index...\n",
      "index created!\n",
      "tokenization...\n",
      "setting up scorers...\n",
      "computing Bleu score...\n",
      "{'testlen': 8977, 'reflen': 11669, 'guess': [8977, 7707, 6437, 5169], 'correct': [3590, 1227, 404, 141]}\n",
      "ratio: 0.7693032822006367\n",
      "Bleu_1: 0.296\n",
      "Bleu_2: 0.187\n",
      "Bleu_3: 0.118\n",
      "Bleu_4: 0.076\n",
      "computing METEOR score...\n",
      "METEOR: 0.109\n",
      "computing Rouge score...\n",
      "ROUGE_L: 0.280\n",
      "computing CIDEr score...\n",
      "CIDEr: 0.351\n"
     ]
    }
   ],
   "source": [
    "coco = COCO(gt_file)\n",
    "cocoRes = coco.loadRes(pred_file)\n",
    "cocoEval = COCOEvalCap(coco, cocoRes)\n",
    "cocoEval.params['image_id'] = cocoRes.getImgIds()\n",
    "cocoEval.evaluate()"
   ]
  },
  {
   "cell_type": "code",
   "execution_count": null,
   "metadata": {},
   "outputs": [],
   "source": []
  }
 ],
 "metadata": {
  "kernelspec": {
   "display_name": "Python 3",
   "language": "python",
   "name": "python3"
  },
  "language_info": {
   "codemirror_mode": {
    "name": "ipython",
    "version": 3
   },
   "file_extension": ".py",
   "mimetype": "text/x-python",
   "name": "python",
   "nbconvert_exporter": "python",
   "pygments_lexer": "ipython3",
   "version": "3.6.7"
  }
 },
 "nbformat": 4,
 "nbformat_minor": 2
}
